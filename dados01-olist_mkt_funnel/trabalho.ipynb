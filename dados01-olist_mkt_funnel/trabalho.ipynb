{
 "cells": [
  {
   "cell_type": "markdown",
   "id": "69bcc70e",
   "metadata": {},
   "source": [
    "Processamento de dados:\n",
    "- criar tabela com todos os MQLs, com todas as informações disponíveis para cada um.\n",
    "- criar uma coluna com quais MQLs fecharam acordo e quais foram perdidos."
   ]
  },
  {
   "cell_type": "markdown",
   "id": "1a9716a1",
   "metadata": {},
   "source": [
    "Perguntas a serem respondidas:\n",
    "- Qual foi a taxa de conversão total?\n",
    "- Qual foi a taxa de conversão de cada origem?\n",
    "- Qual foi a taxa de conversão de cada página inicial?\n",
    "- Para cada SR, qual a receita média declarada dos leads?\n",
    "- Para cada SR, quantos de cada business_type a pessoa converteu?\n",
    "- Para cada SR, quantos de cada lead_behaviour_profile a pessoa converteu?\n",
    "- Para cada SR, quantos de cada lead_type a pessoa converteu?"
   ]
  },
  {
   "cell_type": "markdown",
   "id": "78ce753d",
   "metadata": {},
   "source": [
    "Extra:\n",
    "\n",
    "Caso consiga resolver as questões acima com facilidade, aproveite a base \"irmã\" dessa para fazer outras explorações que você ache interessante!\n",
    "\n",
    "https://www.kaggle.com/datasets/olistbr/brazilian-ecommerce\n",
    "\n",
    "Lembre de separar novamente em 2 etapas: \n",
    "1. Processamento dos dados, para criar uma tabela \"analítica\".\n",
    "2. Análise exploratória dos dados."
   ]
  },
  {
   "cell_type": "code",
   "execution_count": 213,
   "id": "b3a0de1f",
   "metadata": {},
   "outputs": [],
   "source": [
    "import pandas as pd\n",
    "import numpy as np"
   ]
  },
  {
   "cell_type": "markdown",
   "id": "086b9293",
   "metadata": {},
   "source": [
    "## - criar tabela com todos os MQLs, com todas as informações disponíveis para cada um."
   ]
  },
  {
   "cell_type": "code",
   "execution_count": 214,
   "id": "4926e2c6",
   "metadata": {},
   "outputs": [
    {
     "data": {
      "text/html": [
       "<div>\n",
       "<style scoped>\n",
       "    .dataframe tbody tr th:only-of-type {\n",
       "        vertical-align: middle;\n",
       "    }\n",
       "\n",
       "    .dataframe tbody tr th {\n",
       "        vertical-align: top;\n",
       "    }\n",
       "\n",
       "    .dataframe thead th {\n",
       "        text-align: right;\n",
       "    }\n",
       "</style>\n",
       "<table border=\"1\" class=\"dataframe\">\n",
       "  <thead>\n",
       "    <tr style=\"text-align: right;\">\n",
       "      <th></th>\n",
       "      <th>mql_id</th>\n",
       "      <th>seller_id</th>\n",
       "      <th>sdr_id</th>\n",
       "      <th>sr_id</th>\n",
       "      <th>won_date</th>\n",
       "      <th>business_segment</th>\n",
       "      <th>lead_type</th>\n",
       "      <th>lead_behaviour_profile</th>\n",
       "      <th>has_company</th>\n",
       "      <th>has_gtin</th>\n",
       "      <th>average_stock</th>\n",
       "      <th>business_type</th>\n",
       "      <th>declared_product_catalog_size</th>\n",
       "      <th>declared_monthly_revenue</th>\n",
       "    </tr>\n",
       "  </thead>\n",
       "  <tbody>\n",
       "    <tr>\n",
       "      <th>0</th>\n",
       "      <td>5420aad7fec3549a85876ba1c529bd84</td>\n",
       "      <td>2c43fb513632d29b3b58df74816f1b06</td>\n",
       "      <td>a8387c01a09e99ce014107505b92388c</td>\n",
       "      <td>4ef15afb4b2723d8f3d81e51ec7afefe</td>\n",
       "      <td>2018-02-26 19:58:54</td>\n",
       "      <td>pet</td>\n",
       "      <td>online_medium</td>\n",
       "      <td>cat</td>\n",
       "      <td>NaN</td>\n",
       "      <td>NaN</td>\n",
       "      <td>NaN</td>\n",
       "      <td>reseller</td>\n",
       "      <td>NaN</td>\n",
       "      <td>0.0</td>\n",
       "    </tr>\n",
       "    <tr>\n",
       "      <th>1</th>\n",
       "      <td>a555fb36b9368110ede0f043dfc3b9a0</td>\n",
       "      <td>bbb7d7893a450660432ea6652310ebb7</td>\n",
       "      <td>09285259593c61296eef10c734121d5b</td>\n",
       "      <td>d3d1e91a157ea7f90548eef82f1955e3</td>\n",
       "      <td>2018-05-08 20:17:59</td>\n",
       "      <td>car_accessories</td>\n",
       "      <td>industry</td>\n",
       "      <td>eagle</td>\n",
       "      <td>NaN</td>\n",
       "      <td>NaN</td>\n",
       "      <td>NaN</td>\n",
       "      <td>reseller</td>\n",
       "      <td>NaN</td>\n",
       "      <td>0.0</td>\n",
       "    </tr>\n",
       "    <tr>\n",
       "      <th>2</th>\n",
       "      <td>327174d3648a2d047e8940d7d15204ca</td>\n",
       "      <td>612170e34b97004b3ba37eae81836b4c</td>\n",
       "      <td>b90f87164b5f8c2cfa5c8572834dbe3f</td>\n",
       "      <td>6565aa9ce3178a5caf6171827af3a9ba</td>\n",
       "      <td>2018-06-05 17:27:23</td>\n",
       "      <td>home_appliances</td>\n",
       "      <td>online_big</td>\n",
       "      <td>cat</td>\n",
       "      <td>NaN</td>\n",
       "      <td>NaN</td>\n",
       "      <td>NaN</td>\n",
       "      <td>reseller</td>\n",
       "      <td>NaN</td>\n",
       "      <td>0.0</td>\n",
       "    </tr>\n",
       "    <tr>\n",
       "      <th>3</th>\n",
       "      <td>f5fee8f7da74f4887f5bcae2bafb6dd6</td>\n",
       "      <td>21e1781e36faf92725dde4730a88ca0f</td>\n",
       "      <td>56bf83c4bb35763a51c2baab501b4c67</td>\n",
       "      <td>d3d1e91a157ea7f90548eef82f1955e3</td>\n",
       "      <td>2018-01-17 13:51:03</td>\n",
       "      <td>food_drink</td>\n",
       "      <td>online_small</td>\n",
       "      <td>NaN</td>\n",
       "      <td>NaN</td>\n",
       "      <td>NaN</td>\n",
       "      <td>NaN</td>\n",
       "      <td>reseller</td>\n",
       "      <td>NaN</td>\n",
       "      <td>0.0</td>\n",
       "    </tr>\n",
       "    <tr>\n",
       "      <th>4</th>\n",
       "      <td>ffe640179b554e295c167a2f6be528e0</td>\n",
       "      <td>ed8cb7b190ceb6067227478e48cf8dde</td>\n",
       "      <td>4b339f9567d060bcea4f5136b9f5949e</td>\n",
       "      <td>d3d1e91a157ea7f90548eef82f1955e3</td>\n",
       "      <td>2018-07-03 20:17:45</td>\n",
       "      <td>home_appliances</td>\n",
       "      <td>industry</td>\n",
       "      <td>wolf</td>\n",
       "      <td>NaN</td>\n",
       "      <td>NaN</td>\n",
       "      <td>NaN</td>\n",
       "      <td>manufacturer</td>\n",
       "      <td>NaN</td>\n",
       "      <td>0.0</td>\n",
       "    </tr>\n",
       "  </tbody>\n",
       "</table>\n",
       "</div>"
      ],
      "text/plain": [
       "                             mql_id                         seller_id  \\\n",
       "0  5420aad7fec3549a85876ba1c529bd84  2c43fb513632d29b3b58df74816f1b06   \n",
       "1  a555fb36b9368110ede0f043dfc3b9a0  bbb7d7893a450660432ea6652310ebb7   \n",
       "2  327174d3648a2d047e8940d7d15204ca  612170e34b97004b3ba37eae81836b4c   \n",
       "3  f5fee8f7da74f4887f5bcae2bafb6dd6  21e1781e36faf92725dde4730a88ca0f   \n",
       "4  ffe640179b554e295c167a2f6be528e0  ed8cb7b190ceb6067227478e48cf8dde   \n",
       "\n",
       "                             sdr_id                             sr_id  \\\n",
       "0  a8387c01a09e99ce014107505b92388c  4ef15afb4b2723d8f3d81e51ec7afefe   \n",
       "1  09285259593c61296eef10c734121d5b  d3d1e91a157ea7f90548eef82f1955e3   \n",
       "2  b90f87164b5f8c2cfa5c8572834dbe3f  6565aa9ce3178a5caf6171827af3a9ba   \n",
       "3  56bf83c4bb35763a51c2baab501b4c67  d3d1e91a157ea7f90548eef82f1955e3   \n",
       "4  4b339f9567d060bcea4f5136b9f5949e  d3d1e91a157ea7f90548eef82f1955e3   \n",
       "\n",
       "             won_date business_segment      lead_type lead_behaviour_profile  \\\n",
       "0 2018-02-26 19:58:54              pet  online_medium                    cat   \n",
       "1 2018-05-08 20:17:59  car_accessories       industry                  eagle   \n",
       "2 2018-06-05 17:27:23  home_appliances     online_big                    cat   \n",
       "3 2018-01-17 13:51:03       food_drink   online_small                    NaN   \n",
       "4 2018-07-03 20:17:45  home_appliances       industry                   wolf   \n",
       "\n",
       "  has_company has_gtin average_stock business_type  \\\n",
       "0         NaN      NaN           NaN      reseller   \n",
       "1         NaN      NaN           NaN      reseller   \n",
       "2         NaN      NaN           NaN      reseller   \n",
       "3         NaN      NaN           NaN      reseller   \n",
       "4         NaN      NaN           NaN  manufacturer   \n",
       "\n",
       "   declared_product_catalog_size  declared_monthly_revenue  \n",
       "0                            NaN                       0.0  \n",
       "1                            NaN                       0.0  \n",
       "2                            NaN                       0.0  \n",
       "3                            NaN                       0.0  \n",
       "4                            NaN                       0.0  "
      ]
     },
     "execution_count": 214,
     "metadata": {},
     "output_type": "execute_result"
    }
   ],
   "source": [
    "df_deals = pd.read_table('olist_closed_deals_dataset.csv', sep=',', decimal='.', parse_dates=['won_date'])\n",
    "df_deals.head()"
   ]
  },
  {
   "cell_type": "code",
   "execution_count": 215,
   "id": "989ccba4",
   "metadata": {},
   "outputs": [
    {
     "name": "stdout",
     "output_type": "stream",
     "text": [
      "<class 'pandas.core.frame.DataFrame'>\n",
      "RangeIndex: 842 entries, 0 to 841\n",
      "Data columns (total 14 columns):\n",
      " #   Column                         Non-Null Count  Dtype         \n",
      "---  ------                         --------------  -----         \n",
      " 0   mql_id                         842 non-null    object        \n",
      " 1   seller_id                      842 non-null    object        \n",
      " 2   sdr_id                         842 non-null    object        \n",
      " 3   sr_id                          842 non-null    object        \n",
      " 4   won_date                       842 non-null    datetime64[ns]\n",
      " 5   business_segment               841 non-null    object        \n",
      " 6   lead_type                      836 non-null    object        \n",
      " 7   lead_behaviour_profile         665 non-null    object        \n",
      " 8   has_company                    63 non-null     object        \n",
      " 9   has_gtin                       64 non-null     object        \n",
      " 10  average_stock                  66 non-null     object        \n",
      " 11  business_type                  832 non-null    object        \n",
      " 12  declared_product_catalog_size  69 non-null     float64       \n",
      " 13  declared_monthly_revenue       842 non-null    float64       \n",
      "dtypes: datetime64[ns](1), float64(2), object(11)\n",
      "memory usage: 92.2+ KB\n"
     ]
    }
   ],
   "source": [
    "df_deals.info()"
   ]
  },
  {
   "cell_type": "markdown",
   "id": "c294f850",
   "metadata": {},
   "source": [
    "## - criar uma coluna com quais MQLs fecharam acordo e quais foram perdidos."
   ]
  },
  {
   "cell_type": "code",
   "execution_count": 216,
   "id": "3a91405e",
   "metadata": {},
   "outputs": [
    {
     "data": {
      "text/html": [
       "<div>\n",
       "<style scoped>\n",
       "    .dataframe tbody tr th:only-of-type {\n",
       "        vertical-align: middle;\n",
       "    }\n",
       "\n",
       "    .dataframe tbody tr th {\n",
       "        vertical-align: top;\n",
       "    }\n",
       "\n",
       "    .dataframe thead th {\n",
       "        text-align: right;\n",
       "    }\n",
       "</style>\n",
       "<table border=\"1\" class=\"dataframe\">\n",
       "  <thead>\n",
       "    <tr style=\"text-align: right;\">\n",
       "      <th></th>\n",
       "      <th>mql_id</th>\n",
       "      <th>first_contact_date</th>\n",
       "      <th>landing_page_id</th>\n",
       "      <th>origin</th>\n",
       "    </tr>\n",
       "  </thead>\n",
       "  <tbody>\n",
       "    <tr>\n",
       "      <th>0</th>\n",
       "      <td>dac32acd4db4c29c230538b72f8dd87d</td>\n",
       "      <td>2018-02-01</td>\n",
       "      <td>88740e65d5d6b056e0cda098e1ea6313</td>\n",
       "      <td>social</td>\n",
       "    </tr>\n",
       "    <tr>\n",
       "      <th>1</th>\n",
       "      <td>8c18d1de7f67e60dbd64e3c07d7e9d5d</td>\n",
       "      <td>2017-10-20</td>\n",
       "      <td>007f9098284a86ee80ddeb25d53e0af8</td>\n",
       "      <td>paid_search</td>\n",
       "    </tr>\n",
       "    <tr>\n",
       "      <th>2</th>\n",
       "      <td>b4bc852d233dfefc5131f593b538befa</td>\n",
       "      <td>2018-03-22</td>\n",
       "      <td>a7982125ff7aa3b2054c6e44f9d28522</td>\n",
       "      <td>organic_search</td>\n",
       "    </tr>\n",
       "    <tr>\n",
       "      <th>3</th>\n",
       "      <td>6be030b81c75970747525b843c1ef4f8</td>\n",
       "      <td>2018-01-22</td>\n",
       "      <td>d45d558f0daeecf3cccdffe3c59684aa</td>\n",
       "      <td>email</td>\n",
       "    </tr>\n",
       "    <tr>\n",
       "      <th>4</th>\n",
       "      <td>5420aad7fec3549a85876ba1c529bd84</td>\n",
       "      <td>2018-02-21</td>\n",
       "      <td>b48ec5f3b04e9068441002a19df93c6c</td>\n",
       "      <td>organic_search</td>\n",
       "    </tr>\n",
       "  </tbody>\n",
       "</table>\n",
       "</div>"
      ],
      "text/plain": [
       "                             mql_id first_contact_date  \\\n",
       "0  dac32acd4db4c29c230538b72f8dd87d         2018-02-01   \n",
       "1  8c18d1de7f67e60dbd64e3c07d7e9d5d         2017-10-20   \n",
       "2  b4bc852d233dfefc5131f593b538befa         2018-03-22   \n",
       "3  6be030b81c75970747525b843c1ef4f8         2018-01-22   \n",
       "4  5420aad7fec3549a85876ba1c529bd84         2018-02-21   \n",
       "\n",
       "                    landing_page_id          origin  \n",
       "0  88740e65d5d6b056e0cda098e1ea6313          social  \n",
       "1  007f9098284a86ee80ddeb25d53e0af8     paid_search  \n",
       "2  a7982125ff7aa3b2054c6e44f9d28522  organic_search  \n",
       "3  d45d558f0daeecf3cccdffe3c59684aa           email  \n",
       "4  b48ec5f3b04e9068441002a19df93c6c  organic_search  "
      ]
     },
     "execution_count": 216,
     "metadata": {},
     "output_type": "execute_result"
    }
   ],
   "source": [
    "df_mql = pd.read_table('olist_marketing_qualified_leads_dataset.csv', sep=',', parse_dates=['first_contact_date'])\n",
    "df_mql.head()"
   ]
  },
  {
   "cell_type": "code",
   "execution_count": 217,
   "id": "0e85ff62",
   "metadata": {},
   "outputs": [
    {
     "name": "stdout",
     "output_type": "stream",
     "text": [
      "<class 'pandas.core.frame.DataFrame'>\n",
      "RangeIndex: 8000 entries, 0 to 7999\n",
      "Data columns (total 4 columns):\n",
      " #   Column              Non-Null Count  Dtype         \n",
      "---  ------              --------------  -----         \n",
      " 0   mql_id              8000 non-null   object        \n",
      " 1   first_contact_date  8000 non-null   datetime64[ns]\n",
      " 2   landing_page_id     8000 non-null   object        \n",
      " 3   origin              7940 non-null   object        \n",
      "dtypes: datetime64[ns](1), object(3)\n",
      "memory usage: 250.1+ KB\n"
     ]
    }
   ],
   "source": [
    "df_mql.info()"
   ]
  },
  {
   "cell_type": "code",
   "execution_count": 218,
   "id": "5074d438",
   "metadata": {},
   "outputs": [
    {
     "name": "stdout",
     "output_type": "stream",
     "text": [
      "<class 'pandas.core.frame.DataFrame'>\n",
      "Int64Index: 8000 entries, 0 to 7999\n",
      "Data columns (total 17 columns):\n",
      " #   Column                         Non-Null Count  Dtype         \n",
      "---  ------                         --------------  -----         \n",
      " 0   mql_id                         8000 non-null   object        \n",
      " 1   first_contact_date             8000 non-null   datetime64[ns]\n",
      " 2   landing_page_id                8000 non-null   object        \n",
      " 3   origin                         7940 non-null   object        \n",
      " 4   seller_id                      842 non-null    object        \n",
      " 5   sdr_id                         842 non-null    object        \n",
      " 6   sr_id                          842 non-null    object        \n",
      " 7   won_date                       842 non-null    datetime64[ns]\n",
      " 8   business_segment               841 non-null    object        \n",
      " 9   lead_type                      836 non-null    object        \n",
      " 10  lead_behaviour_profile         665 non-null    object        \n",
      " 11  has_company                    63 non-null     object        \n",
      " 12  has_gtin                       64 non-null     object        \n",
      " 13  average_stock                  66 non-null     object        \n",
      " 14  business_type                  832 non-null    object        \n",
      " 15  declared_product_catalog_size  69 non-null     float64       \n",
      " 16  declared_monthly_revenue       842 non-null    float64       \n",
      "dtypes: datetime64[ns](2), float64(2), object(13)\n",
      "memory usage: 1.1+ MB\n"
     ]
    }
   ],
   "source": [
    "df = df_mql.merge(df_deals, how='left', on='mql_id')\n",
    "df.info()"
   ]
  },
  {
   "cell_type": "markdown",
   "id": "0f55fe14",
   "metadata": {},
   "source": [
    "## Qual foi a taxa de conversão total?"
   ]
  },
  {
   "cell_type": "code",
   "execution_count": 219,
   "id": "450b4bce",
   "metadata": {},
   "outputs": [
    {
     "name": "stdout",
     "output_type": "stream",
     "text": [
      "10.52%\n"
     ]
    }
   ],
   "source": [
    "df['fecharam_acordo'] = np.where(np.isnat(df['won_date']), 0, 1)\n",
    "conversao_total = df['fecharam_acordo'].sum() / df['fecharam_acordo'].shape[0]\n",
    "conversao_total = conversao_total * 100\n",
    "conversao_total = round(conversao_total, 2)\n",
    "print(f'{conversao_total}%')"
   ]
  },
  {
   "cell_type": "markdown",
   "id": "aaa203ef",
   "metadata": {},
   "source": [
    "## Qual foi a taxa de conversão de cada origem?"
   ]
  },
  {
   "cell_type": "markdown",
   "id": "da1e2923",
   "metadata": {},
   "source": [
    "## Qual foi a taxa de conversão de cada página inicial?"
   ]
  },
  {
   "cell_type": "code",
   "execution_count": 220,
   "id": "95c09c72",
   "metadata": {},
   "outputs": [
    {
     "data": {
      "text/html": [
       "<div>\n",
       "<style scoped>\n",
       "    .dataframe tbody tr th:only-of-type {\n",
       "        vertical-align: middle;\n",
       "    }\n",
       "\n",
       "    .dataframe tbody tr th {\n",
       "        vertical-align: top;\n",
       "    }\n",
       "\n",
       "    .dataframe thead th {\n",
       "        text-align: right;\n",
       "    }\n",
       "</style>\n",
       "<table border=\"1\" class=\"dataframe\">\n",
       "  <thead>\n",
       "    <tr style=\"text-align: right;\">\n",
       "      <th></th>\n",
       "      <th>%_page_conversao</th>\n",
       "    </tr>\n",
       "    <tr>\n",
       "      <th>landing_page_id</th>\n",
       "      <th></th>\n",
       "    </tr>\n",
       "  </thead>\n",
       "  <tbody>\n",
       "    <tr>\n",
       "      <th>007f9098284a86ee80ddeb25d53e0af8</th>\n",
       "      <td>6.06</td>\n",
       "    </tr>\n",
       "    <tr>\n",
       "      <th>0218f6be0b76aca72ab4d00ee9e8cf10</th>\n",
       "      <td>12.50</td>\n",
       "    </tr>\n",
       "    <tr>\n",
       "      <th>04a75b75d5f4f3a16b0178fbe382da00</th>\n",
       "      <td>100.00</td>\n",
       "    </tr>\n",
       "    <tr>\n",
       "      <th>0625ca637bf063abf254a66fe91fa84b</th>\n",
       "      <td>33.33</td>\n",
       "    </tr>\n",
       "    <tr>\n",
       "      <th>090ffa1062e6dde353c36524563acefc</th>\n",
       "      <td>33.33</td>\n",
       "    </tr>\n",
       "    <tr>\n",
       "      <th>0b353d6bc27566f1d238313c33d95f56</th>\n",
       "      <td>14.29</td>\n",
       "    </tr>\n",
       "    <tr>\n",
       "      <th>0b9430edcbf2d9a95148c806af2b6699</th>\n",
       "      <td>22.22</td>\n",
       "    </tr>\n",
       "    <tr>\n",
       "      <th>0d6bc3c00e4e64927cae2e8d9c6a0b9b</th>\n",
       "      <td>33.33</td>\n",
       "    </tr>\n",
       "    <tr>\n",
       "      <th>0e5a178e3cd2368607f3e72f46140476</th>\n",
       "      <td>4.76</td>\n",
       "    </tr>\n",
       "    <tr>\n",
       "      <th>0f7f8ed9a1db8fc2a42e273972db10d4</th>\n",
       "      <td>22.22</td>\n",
       "    </tr>\n",
       "    <tr>\n",
       "      <th>10f5ac17ed7d6ee9a7d737ac1d2fcb32</th>\n",
       "      <td>50.00</td>\n",
       "    </tr>\n",
       "    <tr>\n",
       "      <th>13fa6688e41e863dcbfdb4c6112c4c86</th>\n",
       "      <td>100.00</td>\n",
       "    </tr>\n",
       "    <tr>\n",
       "      <th>146e076b71a6ca8c31b34191182a313a</th>\n",
       "      <td>100.00</td>\n",
       "    </tr>\n",
       "    <tr>\n",
       "      <th>15cf89bab2c3163b4f9d8601d108f8b2</th>\n",
       "      <td>2.44</td>\n",
       "    </tr>\n",
       "    <tr>\n",
       "      <th>1722481ac9e5371e5099dea226b5421d</th>\n",
       "      <td>2.33</td>\n",
       "    </tr>\n",
       "    <tr>\n",
       "      <th>1baca9df5850e5ba75545d8b2eb8d966</th>\n",
       "      <td>18.18</td>\n",
       "    </tr>\n",
       "    <tr>\n",
       "      <th>1ceb590cd1e00c7ee95220971f82693d</th>\n",
       "      <td>12.68</td>\n",
       "    </tr>\n",
       "    <tr>\n",
       "      <th>1d4ddc25ccaa2adeded340b6eda66182</th>\n",
       "      <td>9.09</td>\n",
       "    </tr>\n",
       "    <tr>\n",
       "      <th>1d83f02bfc05b6715ef428ee0ccd78be</th>\n",
       "      <td>100.00</td>\n",
       "    </tr>\n",
       "    <tr>\n",
       "      <th>1e884e3078d9978e216a027ecd57fb34</th>\n",
       "      <td>25.00</td>\n",
       "    </tr>\n",
       "  </tbody>\n",
       "</table>\n",
       "</div>"
      ],
      "text/plain": [
       "                                  %_page_conversao\n",
       "landing_page_id                                   \n",
       "007f9098284a86ee80ddeb25d53e0af8              6.06\n",
       "0218f6be0b76aca72ab4d00ee9e8cf10             12.50\n",
       "04a75b75d5f4f3a16b0178fbe382da00            100.00\n",
       "0625ca637bf063abf254a66fe91fa84b             33.33\n",
       "090ffa1062e6dde353c36524563acefc             33.33\n",
       "0b353d6bc27566f1d238313c33d95f56             14.29\n",
       "0b9430edcbf2d9a95148c806af2b6699             22.22\n",
       "0d6bc3c00e4e64927cae2e8d9c6a0b9b             33.33\n",
       "0e5a178e3cd2368607f3e72f46140476              4.76\n",
       "0f7f8ed9a1db8fc2a42e273972db10d4             22.22\n",
       "10f5ac17ed7d6ee9a7d737ac1d2fcb32             50.00\n",
       "13fa6688e41e863dcbfdb4c6112c4c86            100.00\n",
       "146e076b71a6ca8c31b34191182a313a            100.00\n",
       "15cf89bab2c3163b4f9d8601d108f8b2              2.44\n",
       "1722481ac9e5371e5099dea226b5421d              2.33\n",
       "1baca9df5850e5ba75545d8b2eb8d966             18.18\n",
       "1ceb590cd1e00c7ee95220971f82693d             12.68\n",
       "1d4ddc25ccaa2adeded340b6eda66182              9.09\n",
       "1d83f02bfc05b6715ef428ee0ccd78be            100.00\n",
       "1e884e3078d9978e216a027ecd57fb34             25.00"
      ]
     },
     "execution_count": 220,
     "metadata": {},
     "output_type": "execute_result"
    }
   ],
   "source": [
    "df_page_conversion = df.groupby('landing_page_id')['fecharam_acordo'].agg(['sum','count'])\n",
    "df_page_conversion['%_page_conversao'] = df_page_conversion['sum'] / df_page_conversion['count']\n",
    "df_page_conversion = df_page_conversion[df_page_conversion['%_page_conversao'] > 0]\n",
    "df_page_conversion['%_page_conversao'] = df_page_conversion['%_page_conversao'] * 100\n",
    "df_page_conversion['%_page_conversao'] = round(df_page_conversion['%_page_conversao'], 2)\n",
    "df_page_conversion = df_page_conversion[['%_page_conversao']]\n",
    "df_page_conversion.head(20)"
   ]
  },
  {
   "cell_type": "markdown",
   "id": "57f12215",
   "metadata": {},
   "source": [
    "## Para cada SR, qual a receita média declarada dos leads?"
   ]
  },
  {
   "cell_type": "markdown",
   "id": "f96ef2e4",
   "metadata": {},
   "source": [
    "## Para cada SR, quantos de cada business_type a pessoa converteu?"
   ]
  },
  {
   "cell_type": "markdown",
   "id": "a02a0884",
   "metadata": {},
   "source": [
    "## Para cada SR, quantos de cada lead_behaviour_profile a pessoa converteu?"
   ]
  },
  {
   "cell_type": "markdown",
   "id": "25d65e89",
   "metadata": {},
   "source": [
    "## Para cada SR, quantos de cada lead_type a pessoa converteu?"
   ]
  }
 ],
 "metadata": {
  "kernelspec": {
   "display_name": "venv",
   "language": "python",
   "name": "venv"
  },
  "language_info": {
   "codemirror_mode": {
    "name": "ipython",
    "version": 3
   },
   "file_extension": ".py",
   "mimetype": "text/x-python",
   "name": "python",
   "nbconvert_exporter": "python",
   "pygments_lexer": "ipython3",
   "version": "3.8.2"
  }
 },
 "nbformat": 4,
 "nbformat_minor": 5
}
