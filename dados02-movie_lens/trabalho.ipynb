{
 "cells": [
  {
   "cell_type": "markdown",
   "id": "4e8c507b",
   "metadata": {},
   "source": [
    "Perguntas:\n",
    "- Quantos gêneros o filme \"The Matrix\" tem? Quais são os gêneros?\n",
    "- Quantos gêneros cada filme tem, em média?\n",
    "- Quais são os cinco filmes com maior número de gêneros?\n",
    "- Quantos usuários deram nota para o filme \"The Matrix\"?\n",
    "- Quantos usuários, em média, deram nota para cada filme?\n",
    "- Quais são os cinco filmes para os quais mais usuários deram nota?\n",
    "- Qual o rating médio do filme \"The Matrix\"?\n",
    "- Cada filme tem um rating médio. Qual a média desses ratings, por gênero?\n",
    "- Para cada gênero de filme, quantos usuários deram cada nota possível?"
   ]
  },
  {
   "cell_type": "markdown",
   "id": "08f1dd1e",
   "metadata": {},
   "source": [
    "Dicas:\n",
    "1. Só é necessário as tabelas movies e ratings para este projeto.\n",
    "2. Pesquise a função \"explode\" no pandas. Ela pode ser útil."
   ]
  },
  {
   "cell_type": "code",
   "execution_count": 330,
   "id": "ea113804",
   "metadata": {},
   "outputs": [],
   "source": [
    "import pandas as pd\n",
    "import numpy as np"
   ]
  },
  {
   "cell_type": "code",
   "execution_count": 331,
   "id": "3142a273",
   "metadata": {},
   "outputs": [
    {
     "data": {
      "text/html": [
       "<div>\n",
       "<style scoped>\n",
       "    .dataframe tbody tr th:only-of-type {\n",
       "        vertical-align: middle;\n",
       "    }\n",
       "\n",
       "    .dataframe tbody tr th {\n",
       "        vertical-align: top;\n",
       "    }\n",
       "\n",
       "    .dataframe thead th {\n",
       "        text-align: right;\n",
       "    }\n",
       "</style>\n",
       "<table border=\"1\" class=\"dataframe\">\n",
       "  <thead>\n",
       "    <tr style=\"text-align: right;\">\n",
       "      <th></th>\n",
       "      <th>movieId</th>\n",
       "      <th>title</th>\n",
       "      <th>genres</th>\n",
       "    </tr>\n",
       "  </thead>\n",
       "  <tbody>\n",
       "    <tr>\n",
       "      <th>0</th>\n",
       "      <td>1</td>\n",
       "      <td>Toy Story (1995)</td>\n",
       "      <td>Adventure|Animation|Children|Comedy|Fantasy</td>\n",
       "    </tr>\n",
       "    <tr>\n",
       "      <th>1</th>\n",
       "      <td>2</td>\n",
       "      <td>Jumanji (1995)</td>\n",
       "      <td>Adventure|Children|Fantasy</td>\n",
       "    </tr>\n",
       "    <tr>\n",
       "      <th>2</th>\n",
       "      <td>3</td>\n",
       "      <td>Grumpier Old Men (1995)</td>\n",
       "      <td>Comedy|Romance</td>\n",
       "    </tr>\n",
       "    <tr>\n",
       "      <th>3</th>\n",
       "      <td>4</td>\n",
       "      <td>Waiting to Exhale (1995)</td>\n",
       "      <td>Comedy|Drama|Romance</td>\n",
       "    </tr>\n",
       "    <tr>\n",
       "      <th>4</th>\n",
       "      <td>5</td>\n",
       "      <td>Father of the Bride Part II (1995)</td>\n",
       "      <td>Comedy</td>\n",
       "    </tr>\n",
       "  </tbody>\n",
       "</table>\n",
       "</div>"
      ],
      "text/plain": [
       "   movieId                               title  \\\n",
       "0        1                    Toy Story (1995)   \n",
       "1        2                      Jumanji (1995)   \n",
       "2        3             Grumpier Old Men (1995)   \n",
       "3        4            Waiting to Exhale (1995)   \n",
       "4        5  Father of the Bride Part II (1995)   \n",
       "\n",
       "                                        genres  \n",
       "0  Adventure|Animation|Children|Comedy|Fantasy  \n",
       "1                   Adventure|Children|Fantasy  \n",
       "2                               Comedy|Romance  \n",
       "3                         Comedy|Drama|Romance  \n",
       "4                                       Comedy  "
      ]
     },
     "execution_count": 331,
     "metadata": {},
     "output_type": "execute_result"
    }
   ],
   "source": [
    "df_movies = pd.read_table('movies.csv', sep=',')\n",
    "df_movies.head()"
   ]
  },
  {
   "cell_type": "code",
   "execution_count": 332,
   "id": "be019cff",
   "metadata": {},
   "outputs": [
    {
     "name": "stdout",
     "output_type": "stream",
     "text": [
      "<class 'pandas.core.frame.DataFrame'>\n",
      "RangeIndex: 9742 entries, 0 to 9741\n",
      "Data columns (total 3 columns):\n",
      " #   Column   Non-Null Count  Dtype \n",
      "---  ------   --------------  ----- \n",
      " 0   movieId  9742 non-null   int64 \n",
      " 1   title    9742 non-null   object\n",
      " 2   genres   9742 non-null   object\n",
      "dtypes: int64(1), object(2)\n",
      "memory usage: 228.5+ KB\n"
     ]
    }
   ],
   "source": [
    "df_movies.info()"
   ]
  },
  {
   "cell_type": "code",
   "execution_count": 333,
   "id": "a5bb7025",
   "metadata": {},
   "outputs": [
    {
     "data": {
      "text/html": [
       "<div>\n",
       "<style scoped>\n",
       "    .dataframe tbody tr th:only-of-type {\n",
       "        vertical-align: middle;\n",
       "    }\n",
       "\n",
       "    .dataframe tbody tr th {\n",
       "        vertical-align: top;\n",
       "    }\n",
       "\n",
       "    .dataframe thead th {\n",
       "        text-align: right;\n",
       "    }\n",
       "</style>\n",
       "<table border=\"1\" class=\"dataframe\">\n",
       "  <thead>\n",
       "    <tr style=\"text-align: right;\">\n",
       "      <th></th>\n",
       "      <th>userId</th>\n",
       "      <th>movieId</th>\n",
       "      <th>rating</th>\n",
       "      <th>timestamp</th>\n",
       "    </tr>\n",
       "  </thead>\n",
       "  <tbody>\n",
       "    <tr>\n",
       "      <th>0</th>\n",
       "      <td>1</td>\n",
       "      <td>1</td>\n",
       "      <td>4.0</td>\n",
       "      <td>964982703</td>\n",
       "    </tr>\n",
       "    <tr>\n",
       "      <th>1</th>\n",
       "      <td>1</td>\n",
       "      <td>3</td>\n",
       "      <td>4.0</td>\n",
       "      <td>964981247</td>\n",
       "    </tr>\n",
       "    <tr>\n",
       "      <th>2</th>\n",
       "      <td>1</td>\n",
       "      <td>6</td>\n",
       "      <td>4.0</td>\n",
       "      <td>964982224</td>\n",
       "    </tr>\n",
       "    <tr>\n",
       "      <th>3</th>\n",
       "      <td>1</td>\n",
       "      <td>47</td>\n",
       "      <td>5.0</td>\n",
       "      <td>964983815</td>\n",
       "    </tr>\n",
       "    <tr>\n",
       "      <th>4</th>\n",
       "      <td>1</td>\n",
       "      <td>50</td>\n",
       "      <td>5.0</td>\n",
       "      <td>964982931</td>\n",
       "    </tr>\n",
       "  </tbody>\n",
       "</table>\n",
       "</div>"
      ],
      "text/plain": [
       "  userId  movieId  rating  timestamp\n",
       "0      1        1     4.0  964982703\n",
       "1      1        3     4.0  964981247\n",
       "2      1        6     4.0  964982224\n",
       "3      1       47     5.0  964983815\n",
       "4      1       50     5.0  964982931"
      ]
     },
     "execution_count": 333,
     "metadata": {},
     "output_type": "execute_result"
    }
   ],
   "source": [
    "df_ratings = pd.read_table('ratings.csv', sep=',', keep_default_na=False)\n",
    "df_ratings['userId'] = df_ratings['userId'].apply(str)\n",
    "df_ratings.head()"
   ]
  },
  {
   "cell_type": "code",
   "execution_count": 334,
   "id": "9f93cef1",
   "metadata": {},
   "outputs": [
    {
     "name": "stdout",
     "output_type": "stream",
     "text": [
      "<class 'pandas.core.frame.DataFrame'>\n",
      "RangeIndex: 100836 entries, 0 to 100835\n",
      "Data columns (total 4 columns):\n",
      " #   Column     Non-Null Count   Dtype  \n",
      "---  ------     --------------   -----  \n",
      " 0   userId     100836 non-null  object \n",
      " 1   movieId    100836 non-null  int64  \n",
      " 2   rating     100836 non-null  float64\n",
      " 3   timestamp  100836 non-null  int64  \n",
      "dtypes: float64(1), int64(2), object(1)\n",
      "memory usage: 3.1+ MB\n"
     ]
    }
   ],
   "source": [
    "df_ratings.info()"
   ]
  },
  {
   "cell_type": "markdown",
   "id": "d0a22062",
   "metadata": {},
   "source": [
    "## Quantos gêneros o filme \"The Matrix\" tem? Quais são os gêneros?"
   ]
  },
  {
   "cell_type": "markdown",
   "id": "0bc58a64",
   "metadata": {},
   "source": [
    "## Quantos gêneros cada filme tem, em média?"
   ]
  },
  {
   "cell_type": "markdown",
   "id": "8f89a3a2",
   "metadata": {},
   "source": [
    "## Quais são os cinco filmes com maior número de gêneros?"
   ]
  },
  {
   "cell_type": "markdown",
   "id": "e34c68b8",
   "metadata": {},
   "source": [
    "## Quantos usuários deram nota para o filme \"The Matrix\"?"
   ]
  },
  {
   "cell_type": "markdown",
   "id": "39bdd438",
   "metadata": {},
   "source": [
    "## Quantos usuários, em média, deram nota para cada filme?"
   ]
  },
  {
   "cell_type": "markdown",
   "id": "3a284547",
   "metadata": {},
   "source": [
    "## Quais são os cinco filmes para os quais mais usuários deram nota?"
   ]
  },
  {
   "cell_type": "markdown",
   "id": "1476c0c7",
   "metadata": {},
   "source": [
    "## Qual o rating médio do filme \"The Matrix\"?"
   ]
  },
  {
   "cell_type": "markdown",
   "id": "b3e08f3b",
   "metadata": {},
   "source": [
    "## Cada filme tem um rating médio. Qual a média desses ratings, por gênero?"
   ]
  },
  {
   "cell_type": "markdown",
   "id": "893707d8",
   "metadata": {},
   "source": [
    "## Para cada gênero de filme, quantos usuários deram cada nota possível?"
   ]
  }
 ],
 "metadata": {
  "kernelspec": {
   "display_name": "venv",
   "language": "python",
   "name": "venv"
  },
  "language_info": {
   "codemirror_mode": {
    "name": "ipython",
    "version": 3
   },
   "file_extension": ".py",
   "mimetype": "text/x-python",
   "name": "python",
   "nbconvert_exporter": "python",
   "pygments_lexer": "ipython3",
   "version": "3.8.2"
  }
 },
 "nbformat": 4,
 "nbformat_minor": 5
}
